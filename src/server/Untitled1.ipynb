{
 "cells": [
  {
   "cell_type": "code",
   "execution_count": 1,
   "metadata": {},
   "outputs": [
    {
     "name": "stdout",
     "output_type": "stream",
     "text": [
      "[[0.00e+00 0.00e+00 1.00e-01 0.00e+00 0.00e+00]\n",
      " [0.00e+00 0.00e+00 2.00e-01 0.00e+00 0.00e+00]\n",
      " [4.00e+00 0.00e+00 3.00e-01 0.00e+00 0.00e+00]\n",
      " ...\n",
      " [2.01e+02 8.00e+00 4.94e+01 5.90e+01 1.80e+01]\n",
      " [2.02e+02 8.00e+00 4.95e+01 5.90e+01 1.80e+01]\n",
      " [2.03e+02 8.00e+00 4.96e+01 5.90e+01 1.80e+01]]\n",
      "[301 301 301 ... 203 203 203]\n"
     ]
    }
   ],
   "source": [
    "import sys\n",
    "def custom_accuracy(y_test,y_pred,thresold):\n",
    "    right = 0\n",
    "\n",
    "    l = len(y_pred)\n",
    "    for i in range(0,l):\n",
    "        if(abs(y_pred[i]-y_test[i]) <= thresold):\n",
    "            right += 1\n",
    "    return ((right/l)*100)\n",
    "\n",
    "\n",
    "import pandas as pd\n",
    "# Importing the dataset\n",
    "dataset = pd.read_csv('data\\odi.csv')\n",
    "X = dataset.iloc[:,[7,8,9,12,13]].values\n",
    "y = dataset.iloc[:, 14].values"
   ]
  },
  {
   "cell_type": "code",
   "execution_count": 2,
   "metadata": {},
   "outputs": [],
   "source": [
    "# Splitting the dataset into the Training set and Test set\n",
    "from sklearn.model_selection import train_test_split\n",
    "X_train, X_test, y_train, y_test = train_test_split(X, y, test_size = 0.25, random_state = 0)\n",
    "\n",
    "# Feature Scaling\n",
    "from sklearn.preprocessing import StandardScaler\n",
    "sc = StandardScaler()\n",
    "X_train = sc.fit_transform(X_train)\n",
    "X_test = sc.transform(X_test)\n"
   ]
  },
  {
   "cell_type": "code",
   "execution_count": 3,
   "metadata": {},
   "outputs": [
    {
     "data": {
      "text/plain": [
       "array([[ 0.09370533,  0.44565669,  0.18010786,  0.84849475,  0.3048047 ],\n",
       "       [ 0.01649844,  0.44565669, -0.2551692 , -0.89540433, -0.76114359],\n",
       "       [ 1.97240628,  1.31445566,  1.61933043,  0.35023787, -0.56127828],\n",
       "       ...,\n",
       "       [ 0.55694666, -0.85754176,  0.03267531,  2.02295739,  2.56994483],\n",
       "       [-0.53681759,  0.01125721, -0.47982834, -0.9309941 , -0.76114359],\n",
       "       [-0.8971164 , -0.85754176, -0.90808481, -0.75304522, -0.02830414]])"
      ]
     },
     "execution_count": 3,
     "metadata": {},
     "output_type": "execute_result"
    }
   ],
   "source": [
    "X_train"
   ]
  },
  {
   "cell_type": "code",
   "execution_count": 4,
   "metadata": {},
   "outputs": [
    {
     "data": {
      "text/plain": [
       "array([252, 230, 295, ..., 401, 302, 247], dtype=int64)"
      ]
     },
     "execution_count": 4,
     "metadata": {},
     "output_type": "execute_result"
    }
   ],
   "source": [
    "y_train"
   ]
  },
  {
   "cell_type": "code",
   "execution_count": 5,
   "metadata": {},
   "outputs": [],
   "source": [
    "from sklearn.linear_model import LinearRegression\n",
    "lin = LinearRegression()\n",
    "lin.fit(X_train,y_train)\n",
    "\n",
    "# Testing the dataset on trained model\n",
    "y_pred = lin.predict(X_test)"
   ]
  },
  {
   "cell_type": "code",
   "execution_count": 6,
   "metadata": {},
   "outputs": [],
   "source": [
    "score = lin.score(X_test,y_test)*100"
   ]
  },
  {
   "cell_type": "code",
   "execution_count": 7,
   "metadata": {},
   "outputs": [
    {
     "data": {
      "text/plain": [
       "52.737657811129445"
      ]
     },
     "execution_count": 7,
     "metadata": {},
     "output_type": "execute_result"
    }
   ],
   "source": [
    "score"
   ]
  },
  {
   "cell_type": "code",
   "execution_count": 8,
   "metadata": {},
   "outputs": [
    {
     "name": "stdout",
     "output_type": "stream",
     "text": [
      "Prediction score: [322.42983935]\n"
     ]
    }
   ],
   "source": [
    "import numpy as np\n",
    "new_prediction = lin.predict(sc.transform(np.array([[sys.argv[1],sys.argv[2],sys.argv[3],sys.argv[4],sys.argv[5]]])))\n",
    "print(\"Prediction score:\" , new_prediction)\n",
    "print(new_prediction)\n",
    "sys.stdout.flush()"
   ]
  },
  {
   "cell_type": "code",
   "execution_count": null,
   "metadata": {},
   "outputs": [],
   "source": []
  },
  {
   "cell_type": "code",
   "execution_count": null,
   "metadata": {},
   "outputs": [],
   "source": []
  }
 ],
 "metadata": {
  "kernelspec": {
   "display_name": "Python 3",
   "language": "python",
   "name": "python3"
  },
  "language_info": {
   "codemirror_mode": {
    "name": "ipython",
    "version": 3
   },
   "file_extension": ".py",
   "mimetype": "text/x-python",
   "name": "python",
   "nbconvert_exporter": "python",
   "pygments_lexer": "ipython3",
   "version": "3.7.6"
  }
 },
 "nbformat": 4,
 "nbformat_minor": 2
}
